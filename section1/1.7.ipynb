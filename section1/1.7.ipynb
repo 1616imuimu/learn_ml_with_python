{
 "cells": [
  {
   "cell_type": "code",
   "execution_count": null,
   "id": "d52c8406",
   "metadata": {},
   "outputs": [],
   "source": [
    "import numpy as np\n",
    "import matplotlib.pyplot as plt\n",
    "import pandas as pd\n",
    "import mglearn\n",
    "from IPython.display import display\n",
    "\n",
    "%matplotlib inline"
   ]
  },
  {
   "cell_type": "code",
   "execution_count": null,
   "id": "e17d50e9",
   "metadata": {},
   "outputs": [],
   "source": [
    "from sklearn.datasets import load_iris\n",
    "\n",
    "iris_dataset = load_iris()\n",
    "print(f\"Keys od iris_dataset: \\n{iris_dataset.keys()}\")"
   ]
  },
  {
   "cell_type": "code",
   "execution_count": null,
   "id": "6ce8d176",
   "metadata": {},
   "outputs": [],
   "source": [
    "print(iris_dataset['DESCR'][:193] + \"\\n...\")"
   ]
  },
  {
   "cell_type": "code",
   "execution_count": null,
   "id": "d293448c",
   "metadata": {},
   "outputs": [],
   "source": [
    "print(f\"Target names: {iris_dataset['target_names']}\")"
   ]
  },
  {
   "cell_type": "code",
   "execution_count": null,
   "id": "17af93a8",
   "metadata": {},
   "outputs": [],
   "source": [
    "print(f\"Feature names: {iris_dataset['feature_names']}\")"
   ]
  },
  {
   "cell_type": "code",
   "execution_count": null,
   "id": "e8a75688",
   "metadata": {},
   "outputs": [],
   "source": [
    "print(f\"Type of data: {type(iris_dataset['data'])}\")"
   ]
  },
  {
   "cell_type": "code",
   "execution_count": null,
   "id": "24226065",
   "metadata": {},
   "outputs": [],
   "source": [
    "print(f\"Shape of data: {iris_dataset['data'].shape}\")"
   ]
  },
  {
   "cell_type": "code",
   "execution_count": null,
   "id": "02c31b60",
   "metadata": {},
   "outputs": [],
   "source": [
    "print(f\"First five columns of data:\\n{iris_dataset['data'][:5]}\")"
   ]
  },
  {
   "cell_type": "code",
   "execution_count": null,
   "id": "e0067504",
   "metadata": {},
   "outputs": [],
   "source": [
    "print(f\"Type of target: {type(iris_dataset['target'])}\")"
   ]
  },
  {
   "cell_type": "code",
   "execution_count": null,
   "id": "108f60d8",
   "metadata": {},
   "outputs": [],
   "source": [
    "print(f\"Shape of target: {iris_dataset['target'].shape}\")"
   ]
  },
  {
   "cell_type": "code",
   "execution_count": null,
   "id": "6377a8ec",
   "metadata": {},
   "outputs": [],
   "source": [
    "print(f\"Target:\\n{iris_dataset['target']}\")"
   ]
  },
  {
   "cell_type": "code",
   "execution_count": null,
   "id": "b2761272",
   "metadata": {},
   "outputs": [],
   "source": [
    "from sklearn.model_selection import train_test_split\n",
    "\n",
    "X_train, X_test, y_train, y_test = train_test_split(\n",
    "    iris_dataset['data'], iris_dataset['target'], random_state=0\n",
    ")"
   ]
  },
  {
   "cell_type": "code",
   "execution_count": null,
   "id": "2c346b70",
   "metadata": {},
   "outputs": [],
   "source": [
    "print(f\"X_train shape: {X_train.shape}\")\n",
    "print(f\"y_train shape: {y_train.shape}\")"
   ]
  },
  {
   "cell_type": "code",
   "execution_count": null,
   "id": "1766d413",
   "metadata": {},
   "outputs": [],
   "source": [
    "print(f\"X_test shape: {X_test.shape}\")\n",
    "print(f\"y_test shape: {y_test.shape}\")"
   ]
  },
  {
   "cell_type": "code",
   "execution_count": null,
   "id": "f8e42d54",
   "metadata": {},
   "outputs": [],
   "source": [
    "iris_dataframe = pd.DataFrame(X_train, columns=iris_dataset.feature_names)\n",
    "grr = pd.plotting.scatter_matrix(iris_dataframe, c=y_train, figsize=(15, 15), marker='o', hist_kwds={'bins': 20}, s=60, alpha=.8, cmap=mglearn.cm3)"
   ]
  },
  {
   "cell_type": "code",
   "execution_count": null,
   "id": "25ab60b4",
   "metadata": {},
   "outputs": [],
   "source": [
    "from sklearn.neighbors import KNeighborsClassifier\n",
    "knn = KNeighborsClassifier(n_neighbors=1)"
   ]
  },
  {
   "cell_type": "code",
   "execution_count": null,
   "id": "285ac42f",
   "metadata": {},
   "outputs": [],
   "source": [
    "knn.fit(X_train, y_train)"
   ]
  },
  {
   "cell_type": "code",
   "execution_count": null,
   "id": "d9b2114d",
   "metadata": {},
   "outputs": [],
   "source": []
  }
 ],
 "metadata": {
  "kernelspec": {
   "display_name": "Python 3 (ipykernel)",
   "language": "python",
   "name": "python3"
  },
  "language_info": {
   "codemirror_mode": {
    "name": "ipython",
    "version": 3
   },
   "file_extension": ".py",
   "mimetype": "text/x-python",
   "name": "python",
   "nbconvert_exporter": "python",
   "pygments_lexer": "ipython3",
   "version": "3.10.2"
  }
 },
 "nbformat": 4,
 "nbformat_minor": 5
}
